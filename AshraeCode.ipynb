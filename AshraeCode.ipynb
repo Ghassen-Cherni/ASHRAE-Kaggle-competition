{
 "cells": [
  {
   "cell_type": "markdown",
   "metadata": {},
   "source": [
    "# Kaggle competition: ASHRAE - Great Energy Predictor III : The goal of this competition was to predict the energy consumption of different buildings in different sites.\n",
    "## Link to the competition: https://www.kaggle.com/c/ashrae-energy-prediction/overview"
   ]
  },
  {
   "cell_type": "markdown",
   "metadata": {},
   "source": [
    "## First we import the libraries that we will need"
   ]
  },
  {
   "cell_type": "code",
   "execution_count": 1,
   "metadata": {},
   "outputs": [],
   "source": [
    "import pandas as pd \n",
    "import numpy as np\n",
    "from sklearn.preprocessing import LabelEncoder\n",
    "from sklearn.model_selection import KFold\n",
    "from math import sqrt\n",
    "from sklearn.metrics import mean_squared_error \n",
    "from sklearn.metrics import accuracy_score\n",
    "from sklearn.model_selection import train_test_split\n",
    "import matplotlib.pyplot as plt \n",
    "from sklearn.preprocessing import OrdinalEncoder\n",
    "from lightgbm import LGBMRegressor\n",
    "from sklearn.metrics import mean_squared_log_error\n",
    "import seaborn as sns\n",
    "from sklearn.preprocessing import KBinsDiscretizer"
   ]
  },
  {
   "cell_type": "markdown",
   "metadata": {},
   "source": [
    "## This function will allow to reduce the memory usage of our dataframes"
   ]
  },
  {
   "cell_type": "code",
   "execution_count": 2,
   "metadata": {},
   "outputs": [],
   "source": [
    "def reduce_mem_usage(df):\n",
    "    start_mem = df.memory_usage().sum() / 1024**2\n",
    "    print('Memory usage of dataframe is {:.2f} MB'.format(start_mem))\n",
    "    \n",
    "    for col in df.columns:\n",
    "        col_type = df[col].dtype#.name\n",
    "        \n",
    "        if col_type != object and col_type.name != 'category' :\n",
    "            c_min = df[col].min()\n",
    "            c_max = df[col].max()\n",
    "            if str(col_type)[:3] == 'int':\n",
    "                if c_min > np.iinfo(np.int8).min and c_max < np.iinfo(np.int8).max:\n",
    "                    df[col] = df[col].astype(np.int8)\n",
    "                elif c_min > np.iinfo(np.int16).min and c_max < np.iinfo(np.int16).max:\n",
    "                    df[col] = df[col].astype(np.int16)\n",
    "                elif c_min > np.iinfo(np.int32).min and c_max < np.iinfo(np.int32).max:\n",
    "                    df[col] = df[col].astype(np.int32)\n",
    "                elif c_min > np.iinfo(np.int64).min and c_max < np.iinfo(np.int64).max:\n",
    "                    df[col] = df[col].astype(np.int64)  \n",
    "            else:\n",
    "                \n",
    "                ## FLOAT 16 DOESNT WORK WELL ='(\n",
    "                if c_min > np.finfo(np.float16).min and c_max < np.finfo(np.float16).max:\n",
    "                    df[col] = df[col].astype(np.float32)\n",
    "                elif c_min > np.finfo(np.float32).min and c_max < np.finfo(np.float32).max:\n",
    "                    df[col] = df[col].astype(np.float32)\n",
    "                else:\n",
    "                    df[col] = df[col].astype(np.float64)\n",
    "        else:\n",
    "            df[col] = df[col].astype('category')\n",
    "\n",
    "    end_mem = df.memory_usage().sum() / 1024**2\n",
    "    print('Memory usage after optimization is: {:.2f} MB'.format(end_mem))\n",
    "    print('Decreased by {:.1f}%'.format(100 * (start_mem - end_mem) / start_mem))\n",
    "    \n",
    "    return df"
   ]
  },
  {
   "cell_type": "markdown",
   "metadata": {},
   "source": [
    "## Now let's import the data and analyze it "
   ]
  },
  {
   "cell_type": "code",
   "execution_count": 3,
   "metadata": {},
   "outputs": [
    {
     "name": "stdout",
     "output_type": "stream",
     "text": [
      "   site_id  building_id primary_use  square_feet  year_built  floor_count\n",
      "0        0            0   Education         7432      2008.0          NaN\n",
      "1        0            1   Education         2720      2004.0          NaN\n",
      "2        0            2   Education         5376      1991.0          NaN\n",
      "3        0            3   Education        23685      2002.0          NaN\n",
      "4        0            4   Education       116607      1975.0          NaN\n",
      "           site_id  building_id    square_feet   year_built  floor_count\n",
      "count  1449.000000  1449.000000    1449.000000   675.000000   355.000000\n",
      "mean      6.952381   724.000000   92111.776398  1967.957037     3.740845\n",
      "std       5.003432   418.434583  110769.950997    31.054030     3.333683\n",
      "min       0.000000     0.000000     283.000000  1900.000000     1.000000\n",
      "25%       3.000000   362.000000   23012.000000  1949.000000     1.000000\n",
      "50%       5.000000   724.000000   57673.000000  1970.000000     3.000000\n",
      "75%      13.000000  1086.000000  115676.000000  1995.000000     5.000000\n",
      "max      15.000000  1448.000000  875000.000000  2017.000000    26.000000\n",
      "Memory usage of dataframe is 0.07 MB\n",
      "Memory usage after optimization is: 0.02 MB\n",
      "Decreased by 65.5%\n",
      "<class 'pandas.core.frame.DataFrame'>\n",
      "RangeIndex: 1449 entries, 0 to 1448\n",
      "Data columns (total 6 columns):\n",
      "site_id        1449 non-null int8\n",
      "building_id    1449 non-null int16\n",
      "primary_use    1449 non-null category\n",
      "square_feet    1449 non-null int32\n",
      "year_built     675 non-null float32\n",
      "floor_count    355 non-null float32\n",
      "dtypes: category(1), float32(2), int16(1), int32(1), int8(1)\n",
      "memory usage: 23.5 KB\n",
      "None\n"
     ]
    }
   ],
   "source": [
    "data_building=pd.read_csv(\"building_metadata.csv \")\n",
    "print(data_building.head())\n",
    "print(data_building.describe())\n",
    "data_building=reduce_mem_usage(data_building)\n",
    "print(data_building.info())"
   ]
  },
  {
   "cell_type": "markdown",
   "metadata": {},
   "source": [
    "## It seems that we have some outliers in meter reading"
   ]
  },
  {
   "cell_type": "code",
   "execution_count": 4,
   "metadata": {},
   "outputs": [
    {
     "name": "stdout",
     "output_type": "stream",
     "text": [
      "   building_id  meter            timestamp  meter_reading\n",
      "0            0      0  2016-01-01 00:00:00            0.0\n",
      "1            1      0  2016-01-01 00:00:00            0.0\n",
      "2            2      0  2016-01-01 00:00:00            0.0\n",
      "3            3      0  2016-01-01 00:00:00            0.0\n",
      "4            4      0  2016-01-01 00:00:00            0.0\n",
      "        building_id         meter  meter_reading\n",
      "count  2.021610e+07  2.021610e+07   2.021610e+07\n",
      "mean   7.992780e+02  6.624412e-01   2.117121e+03\n",
      "std    4.269133e+02  9.309921e-01   1.532356e+05\n",
      "min    0.000000e+00  0.000000e+00   0.000000e+00\n",
      "25%    3.930000e+02  0.000000e+00   1.830000e+01\n",
      "50%    8.950000e+02  0.000000e+00   7.877500e+01\n",
      "75%    1.179000e+03  1.000000e+00   2.679840e+02\n",
      "max    1.448000e+03  3.000000e+00   2.190470e+07\n",
      "Memory usage of dataframe is 616.95 MB\n",
      "Memory usage after optimization is: 173.90 MB\n",
      "Decreased by 71.8%\n",
      "<class 'pandas.core.frame.DataFrame'>\n",
      "RangeIndex: 20216100 entries, 0 to 20216099\n",
      "Data columns (total 4 columns):\n",
      "building_id      int16\n",
      "meter            int8\n",
      "timestamp        category\n",
      "meter_reading    float32\n",
      "dtypes: category(1), float32(1), int16(1), int8(1)\n",
      "memory usage: 173.9 MB\n",
      "None\n"
     ]
    }
   ],
   "source": [
    "data_train=pd.read_csv(\"train.csv\")\n",
    "print(data_train.head())\n",
    "print(data_train.describe())\n",
    "data_train=reduce_mem_usage(data_train)\n",
    "print(data_train.info())"
   ]
  },
  {
   "cell_type": "markdown",
   "metadata": {},
   "source": [
    "## We have too much missing data in the columns cloud_coverage  and precip_depth_1_hr, we will need to remove them"
   ]
  },
  {
   "cell_type": "code",
   "execution_count": 5,
   "metadata": {},
   "outputs": [
    {
     "name": "stdout",
     "output_type": "stream",
     "text": [
      "   site_id            timestamp  air_temperature  cloud_coverage  \\\n",
      "0        0  2016-01-01 00:00:00             25.0             6.0   \n",
      "1        0  2016-01-01 01:00:00             24.4             NaN   \n",
      "2        0  2016-01-01 02:00:00             22.8             2.0   \n",
      "3        0  2016-01-01 03:00:00             21.1             2.0   \n",
      "4        0  2016-01-01 04:00:00             20.0             2.0   \n",
      "\n",
      "   dew_temperature  precip_depth_1_hr  sea_level_pressure  wind_direction  \\\n",
      "0             20.0                NaN              1019.7             0.0   \n",
      "1             21.1               -1.0              1020.2            70.0   \n",
      "2             21.1                0.0              1020.2             0.0   \n",
      "3             20.6                0.0              1020.1             0.0   \n",
      "4             20.0               -1.0              1020.0           250.0   \n",
      "\n",
      "   wind_speed  \n",
      "0         0.0  \n",
      "1         1.5  \n",
      "2         0.0  \n",
      "3         0.0  \n",
      "4         2.6  \n",
      "             site_id  air_temperature  cloud_coverage  dew_temperature  \\\n",
      "count  139773.000000    139718.000000    70600.000000    139660.000000   \n",
      "mean        7.478977        14.418106        2.149306         7.350158   \n",
      "std         4.604744        10.626595        2.599150         9.790235   \n",
      "min         0.000000       -28.900000        0.000000       -35.000000   \n",
      "25%         3.000000         7.200000        0.000000         0.600000   \n",
      "50%         7.000000        15.000000        2.000000         8.300000   \n",
      "75%        11.000000        22.200000        4.000000        14.400000   \n",
      "max        15.000000        47.200000        9.000000        26.100000   \n",
      "\n",
      "       precip_depth_1_hr  sea_level_pressure  wind_direction     wind_speed  \n",
      "count       89484.000000       129155.000000   133505.000000  139469.000000  \n",
      "mean            0.983047         1016.158038      180.526632       3.560527  \n",
      "std             8.463678            7.629684      111.523629       2.335874  \n",
      "min            -1.000000          968.200000        0.000000       0.000000  \n",
      "25%             0.000000         1011.800000       80.000000       2.100000  \n",
      "50%             0.000000         1016.400000      190.000000       3.100000  \n",
      "75%             0.000000         1020.800000      280.000000       5.000000  \n",
      "max           343.000000         1045.500000      360.000000      19.000000  \n",
      "Memory usage of dataframe is 9.60 MB\n",
      "Memory usage after optimization is: 4.51 MB\n",
      "Decreased by 53.0%\n",
      "<class 'pandas.core.frame.DataFrame'>\n",
      "RangeIndex: 139773 entries, 0 to 139772\n",
      "Data columns (total 9 columns):\n",
      "site_id               139773 non-null int8\n",
      "timestamp             139773 non-null category\n",
      "air_temperature       139718 non-null float32\n",
      "cloud_coverage        70600 non-null float32\n",
      "dew_temperature       139660 non-null float32\n",
      "precip_depth_1_hr     89484 non-null float32\n",
      "sea_level_pressure    129155 non-null float32\n",
      "wind_direction        133505 non-null float32\n",
      "wind_speed            139469 non-null float32\n",
      "dtypes: category(1), float32(7), int8(1)\n",
      "memory usage: 4.5 MB\n",
      "None\n"
     ]
    }
   ],
   "source": [
    "data_weather=pd.read_csv(\"weather_train.csv\")\n",
    "print(data_weather.head())\n",
    "print(data_weather.describe())\n",
    "data_weather=reduce_mem_usage(data_weather)\n",
    "print(data_weather.info())"
   ]
  },
  {
   "cell_type": "code",
   "execution_count": 6,
   "metadata": {
    "scrolled": true
   },
   "outputs": [
    {
     "name": "stdout",
     "output_type": "stream",
     "text": [
      "Memory usage of dataframe is 1272.51 MB\n",
      "Memory usage after optimization is: 358.65 MB\n",
      "Decreased by 71.8%\n",
      "   row_id  building_id  meter            timestamp\n",
      "0       0            0      0  2017-01-01 00:00:00\n",
      "1       1            1      0  2017-01-01 00:00:00\n",
      "2       2            2      0  2017-01-01 00:00:00\n",
      "3       3            3      0  2017-01-01 00:00:00\n",
      "4       4            4      0  2017-01-01 00:00:00\n",
      "Memory usage of dataframe is 636.25 MB\n",
      "Memory usage after optimization is: 198.83 MB\n",
      "Decreased by 68.7%\n",
      "   row_id  meter_reading\n",
      "0       0              0\n",
      "1       1              0\n",
      "2       2              0\n",
      "3       3              0\n",
      "4       4              0\n"
     ]
    }
   ],
   "source": [
    "test=pd.read_csv(\"test.csv\")\n",
    "test=reduce_mem_usage(test)\n",
    "print(test.head())\n",
    "submission=pd.read_csv(\"sample_submission.csv\")\n",
    "submission=reduce_mem_usage(submission)\n",
    "\n",
    "print(submission.head())"
   ]
  },
  {
   "cell_type": "code",
   "execution_count": 7,
   "metadata": {},
   "outputs": [
    {
     "name": "stdout",
     "output_type": "stream",
     "text": [
      "   site_id            timestamp  air_temperature  cloud_coverage  \\\n",
      "0        0  2017-01-01 00:00:00             17.8             4.0   \n",
      "1        0  2017-01-01 01:00:00             17.8             2.0   \n",
      "2        0  2017-01-01 02:00:00             16.1             0.0   \n",
      "3        0  2017-01-01 03:00:00             17.2             0.0   \n",
      "4        0  2017-01-01 04:00:00             16.7             2.0   \n",
      "\n",
      "   dew_temperature  precip_depth_1_hr  sea_level_pressure  wind_direction  \\\n",
      "0             11.7                NaN              1021.4           100.0   \n",
      "1             12.8                0.0              1022.0           130.0   \n",
      "2             12.8                0.0              1021.9           140.0   \n",
      "3             13.3                0.0              1022.2           140.0   \n",
      "4             13.3                0.0              1022.3           130.0   \n",
      "\n",
      "   wind_speed  \n",
      "0         3.6  \n",
      "1         3.1  \n",
      "2         3.1  \n",
      "3         3.1  \n",
      "4         2.6  \n",
      "             site_id  air_temperature  cloud_coverage  dew_temperature  \\\n",
      "count  277243.000000    277139.000000   136795.000000    276916.000000   \n",
      "mean        7.484654        14.276863        2.187317         7.487658   \n",
      "std         4.616959        10.741605        2.620627        10.153973   \n",
      "min         0.000000       -28.100000        0.000000       -31.600000   \n",
      "25%         3.000000         7.200000        0.000000         0.600000   \n",
      "50%         7.000000        15.000000        2.000000         8.400000   \n",
      "75%        12.000000        22.200000        4.000000        15.000000   \n",
      "max        15.000000        48.300000        9.000000        26.700000   \n",
      "\n",
      "       precip_depth_1_hr  sea_level_pressure  wind_direction     wind_speed  \n",
      "count      181655.000000       255978.000000   264873.000000  276783.000000  \n",
      "mean            1.095395         1016.195762      180.426023       3.548873  \n",
      "std             9.163511            7.940392      110.456872       2.317184  \n",
      "min            -1.000000          972.000000        0.000000       0.000000  \n",
      "25%             0.000000         1011.600000       80.000000       2.100000  \n",
      "50%             0.000000         1016.300000      190.000000       3.100000  \n",
      "75%             0.000000         1020.800000      280.000000       4.600000  \n",
      "max           597.000000         1050.100000      360.000000      24.200000  \n",
      "Memory usage of dataframe is 19.04 MB\n",
      "Memory usage after optimization is: 8.96 MB\n",
      "Decreased by 53.0%\n",
      "<class 'pandas.core.frame.DataFrame'>\n",
      "RangeIndex: 277243 entries, 0 to 277242\n",
      "Data columns (total 9 columns):\n",
      "site_id               277243 non-null int8\n",
      "timestamp             277243 non-null category\n",
      "air_temperature       277139 non-null float32\n",
      "cloud_coverage        136795 non-null float32\n",
      "dew_temperature       276916 non-null float32\n",
      "precip_depth_1_hr     181655 non-null float32\n",
      "sea_level_pressure    255978 non-null float32\n",
      "wind_direction        264873 non-null float32\n",
      "wind_speed            276783 non-null float32\n",
      "dtypes: category(1), float32(7), int8(1)\n",
      "memory usage: 9.0 MB\n",
      "None\n"
     ]
    }
   ],
   "source": [
    "weather_test=pd.read_csv(\"weather_test.csv\")\n",
    "print(weather_test.head())\n",
    "print(weather_test.describe())\n",
    "weather_test=reduce_mem_usage(weather_test)\n",
    "print(weather_test.info())"
   ]
  },
  {
   "cell_type": "markdown",
   "metadata": {},
   "source": [
    "## Let's remove columns with many missing values and fill the rest with the mean"
   ]
  },
  {
   "cell_type": "code",
   "execution_count": 8,
   "metadata": {},
   "outputs": [],
   "source": [
    "def replaceNan(df):\n",
    "    categorical_feature_mask = df.dtypes !='category'\n",
    "    categorical_cols = df.columns[categorical_feature_mask].tolist()\n",
    "    df[categorical_cols]=df[categorical_cols].fillna(df[categorical_cols].mean().round(1))\n",
    "    return df\n",
    "\n",
    "data_building.drop(columns=[\"year_built\",\"floor_count\"],inplace=True)\n",
    "data_weather.drop(columns=[\"cloud_coverage\",\"precip_depth_1_hr\"],inplace=True)\n",
    "weather_test.drop(columns=[\"cloud_coverage\",\"precip_depth_1_hr\"],inplace=True)\n",
    "\n",
    "weather_test=replaceNan(weather_test)\n",
    "data_building=replaceNan(data_building)\n",
    "data_weather=replaceNan(data_weather)\n"
   ]
  },
  {
   "cell_type": "code",
   "execution_count": 9,
   "metadata": {},
   "outputs": [
    {
     "data": {
      "text/html": [
       "<div>\n",
       "<style scoped>\n",
       "    .dataframe tbody tr th:only-of-type {\n",
       "        vertical-align: middle;\n",
       "    }\n",
       "\n",
       "    .dataframe tbody tr th {\n",
       "        vertical-align: top;\n",
       "    }\n",
       "\n",
       "    .dataframe thead th {\n",
       "        text-align: right;\n",
       "    }\n",
       "</style>\n",
       "<table border=\"1\" class=\"dataframe\">\n",
       "  <thead>\n",
       "    <tr style=\"text-align: right;\">\n",
       "      <th></th>\n",
       "      <th>building_id</th>\n",
       "      <th>meter</th>\n",
       "      <th>timestamp</th>\n",
       "      <th>meter_reading</th>\n",
       "    </tr>\n",
       "  </thead>\n",
       "  <tbody>\n",
       "    <tr>\n",
       "      <th>0</th>\n",
       "      <td>0</td>\n",
       "      <td>0</td>\n",
       "      <td>2016-01-01 00:00:00</td>\n",
       "      <td>0.0</td>\n",
       "    </tr>\n",
       "    <tr>\n",
       "      <th>1</th>\n",
       "      <td>1</td>\n",
       "      <td>0</td>\n",
       "      <td>2016-01-01 00:00:00</td>\n",
       "      <td>0.0</td>\n",
       "    </tr>\n",
       "    <tr>\n",
       "      <th>2</th>\n",
       "      <td>2</td>\n",
       "      <td>0</td>\n",
       "      <td>2016-01-01 00:00:00</td>\n",
       "      <td>0.0</td>\n",
       "    </tr>\n",
       "    <tr>\n",
       "      <th>3</th>\n",
       "      <td>3</td>\n",
       "      <td>0</td>\n",
       "      <td>2016-01-01 00:00:00</td>\n",
       "      <td>0.0</td>\n",
       "    </tr>\n",
       "    <tr>\n",
       "      <th>4</th>\n",
       "      <td>4</td>\n",
       "      <td>0</td>\n",
       "      <td>2016-01-01 00:00:00</td>\n",
       "      <td>0.0</td>\n",
       "    </tr>\n",
       "  </tbody>\n",
       "</table>\n",
       "</div>"
      ],
      "text/plain": [
       "   building_id  meter            timestamp  meter_reading\n",
       "0            0      0  2016-01-01 00:00:00            0.0\n",
       "1            1      0  2016-01-01 00:00:00            0.0\n",
       "2            2      0  2016-01-01 00:00:00            0.0\n",
       "3            3      0  2016-01-01 00:00:00            0.0\n",
       "4            4      0  2016-01-01 00:00:00            0.0"
      ]
     },
     "execution_count": 9,
     "metadata": {},
     "output_type": "execute_result"
    }
   ],
   "source": [
    "data_train.head()"
   ]
  },
  {
   "cell_type": "markdown",
   "metadata": {},
   "source": [
    "## Merge the dataframes together"
   ]
  },
  {
   "cell_type": "code",
   "execution_count": 10,
   "metadata": {},
   "outputs": [
    {
     "name": "stdout",
     "output_type": "stream",
     "text": [
      "Memory usage of dataframe is 829.40 MB\n",
      "Memory usage after optimization is: 829.40 MB\n",
      "Decreased by 0.0%\n"
     ]
    },
    {
     "data": {
      "text/html": [
       "<div>\n",
       "<style scoped>\n",
       "    .dataframe tbody tr th:only-of-type {\n",
       "        vertical-align: middle;\n",
       "    }\n",
       "\n",
       "    .dataframe tbody tr th {\n",
       "        vertical-align: top;\n",
       "    }\n",
       "\n",
       "    .dataframe thead th {\n",
       "        text-align: right;\n",
       "    }\n",
       "</style>\n",
       "<table border=\"1\" class=\"dataframe\">\n",
       "  <thead>\n",
       "    <tr style=\"text-align: right;\">\n",
       "      <th></th>\n",
       "      <th>building_id</th>\n",
       "      <th>meter</th>\n",
       "      <th>timestamp</th>\n",
       "      <th>meter_reading</th>\n",
       "      <th>site_id</th>\n",
       "      <th>primary_use</th>\n",
       "      <th>square_feet</th>\n",
       "      <th>air_temperature</th>\n",
       "      <th>dew_temperature</th>\n",
       "      <th>sea_level_pressure</th>\n",
       "      <th>wind_direction</th>\n",
       "      <th>wind_speed</th>\n",
       "    </tr>\n",
       "  </thead>\n",
       "  <tbody>\n",
       "    <tr>\n",
       "      <th>0</th>\n",
       "      <td>0</td>\n",
       "      <td>0</td>\n",
       "      <td>2016-01-01 00:00:00</td>\n",
       "      <td>0.0</td>\n",
       "      <td>0</td>\n",
       "      <td>Education</td>\n",
       "      <td>7432</td>\n",
       "      <td>25.000000</td>\n",
       "      <td>20.0</td>\n",
       "      <td>1019.700012</td>\n",
       "      <td>0.0</td>\n",
       "      <td>0.0</td>\n",
       "    </tr>\n",
       "    <tr>\n",
       "      <th>1</th>\n",
       "      <td>0</td>\n",
       "      <td>0</td>\n",
       "      <td>2016-01-01 01:00:00</td>\n",
       "      <td>0.0</td>\n",
       "      <td>0</td>\n",
       "      <td>Education</td>\n",
       "      <td>7432</td>\n",
       "      <td>24.400000</td>\n",
       "      <td>21.1</td>\n",
       "      <td>1020.200012</td>\n",
       "      <td>70.0</td>\n",
       "      <td>1.5</td>\n",
       "    </tr>\n",
       "    <tr>\n",
       "      <th>2</th>\n",
       "      <td>0</td>\n",
       "      <td>0</td>\n",
       "      <td>2016-01-01 02:00:00</td>\n",
       "      <td>0.0</td>\n",
       "      <td>0</td>\n",
       "      <td>Education</td>\n",
       "      <td>7432</td>\n",
       "      <td>22.799999</td>\n",
       "      <td>21.1</td>\n",
       "      <td>1020.200012</td>\n",
       "      <td>0.0</td>\n",
       "      <td>0.0</td>\n",
       "    </tr>\n",
       "    <tr>\n",
       "      <th>3</th>\n",
       "      <td>0</td>\n",
       "      <td>0</td>\n",
       "      <td>2016-01-01 03:00:00</td>\n",
       "      <td>0.0</td>\n",
       "      <td>0</td>\n",
       "      <td>Education</td>\n",
       "      <td>7432</td>\n",
       "      <td>21.100000</td>\n",
       "      <td>20.6</td>\n",
       "      <td>1020.099976</td>\n",
       "      <td>0.0</td>\n",
       "      <td>0.0</td>\n",
       "    </tr>\n",
       "    <tr>\n",
       "      <th>4</th>\n",
       "      <td>0</td>\n",
       "      <td>0</td>\n",
       "      <td>2016-01-01 04:00:00</td>\n",
       "      <td>0.0</td>\n",
       "      <td>0</td>\n",
       "      <td>Education</td>\n",
       "      <td>7432</td>\n",
       "      <td>20.000000</td>\n",
       "      <td>20.0</td>\n",
       "      <td>1020.000000</td>\n",
       "      <td>250.0</td>\n",
       "      <td>2.6</td>\n",
       "    </tr>\n",
       "  </tbody>\n",
       "</table>\n",
       "</div>"
      ],
      "text/plain": [
       "   building_id  meter            timestamp  meter_reading  site_id  \\\n",
       "0            0      0  2016-01-01 00:00:00            0.0        0   \n",
       "1            0      0  2016-01-01 01:00:00            0.0        0   \n",
       "2            0      0  2016-01-01 02:00:00            0.0        0   \n",
       "3            0      0  2016-01-01 03:00:00            0.0        0   \n",
       "4            0      0  2016-01-01 04:00:00            0.0        0   \n",
       "\n",
       "  primary_use  square_feet  air_temperature  dew_temperature  \\\n",
       "0   Education         7432        25.000000             20.0   \n",
       "1   Education         7432        24.400000             21.1   \n",
       "2   Education         7432        22.799999             21.1   \n",
       "3   Education         7432        21.100000             20.6   \n",
       "4   Education         7432        20.000000             20.0   \n",
       "\n",
       "   sea_level_pressure  wind_direction  wind_speed  \n",
       "0         1019.700012             0.0         0.0  \n",
       "1         1020.200012            70.0         1.5  \n",
       "2         1020.200012             0.0         0.0  \n",
       "3         1020.099976             0.0         0.0  \n",
       "4         1020.000000           250.0         2.6  "
      ]
     },
     "execution_count": 10,
     "metadata": {},
     "output_type": "execute_result"
    }
   ],
   "source": [
    "merged_data=data_train.merge(data_building,on=[\"building_id\"])\n",
    "merged_data=merged_data.merge(data_weather,on=['site_id','timestamp'],how='left')\n",
    "merged_data=reduce_mem_usage(merged_data)\n",
    "merged_data.head()"
   ]
  },
  {
   "cell_type": "markdown",
   "metadata": {},
   "source": [
    "## Let's now convert timestamps "
   ]
  },
  {
   "cell_type": "code",
   "execution_count": 11,
   "metadata": {},
   "outputs": [],
   "source": [
    "def extract_time(merged_data):    \n",
    "    merged_data[\"day\"]=pd.to_datetime(merged_data[\"timestamp\"]).dt.day\n",
    "    merged_data[\"week\"]=pd.to_datetime(merged_data[\"timestamp\"]).dt.week\n",
    "    merged_data[\"month\"]=pd.to_datetime(merged_data[\"timestamp\"]).dt.month\n",
    "    merged_data[\"hour\"]=pd.to_datetime(merged_data[\"timestamp\"]).dt.hour\n",
    "    merged_data[\"year\"]=pd.to_datetime(merged_data[\"timestamp\"]).dt.year\n",
    "    merged_data.sort_values(by=[\"timestamp\"],inplace=True)\n",
    "    #merged_data.drop(columns=\"timestamp\",inplace=True)\n",
    "    return merged_data\n",
    "\n",
    "\n",
    "merged_data=extract_time(merged_data)"
   ]
  },
  {
   "cell_type": "markdown",
   "metadata": {},
   "source": [
    "## Label encoding primary_use column"
   ]
  },
  {
   "cell_type": "code",
   "execution_count": 12,
   "metadata": {},
   "outputs": [
    {
     "name": "stdout",
     "output_type": "stream",
     "text": [
      "Memory usage of dataframe is 1735.54 MB\n",
      "Memory usage after optimization is: 1002.92 MB\n",
      "Decreased by 42.2%\n"
     ]
    }
   ],
   "source": [
    "ordinal_encoder = OrdinalEncoder()\n",
    "ordinal_encoder.fit(merged_data[[\"primary_use\"]])\n",
    "merged_data[\"primary_use\"]=ordinal_encoder.transform(merged_data[[\"primary_use\"]])\n",
    "merged_data=reduce_mem_usage(merged_data)"
   ]
  },
  {
   "cell_type": "markdown",
   "metadata": {},
   "source": [
    "## Adding columns to test set"
   ]
  },
  {
   "cell_type": "code",
   "execution_count": 13,
   "metadata": {},
   "outputs": [
    {
     "data": {
      "text/html": [
       "<div>\n",
       "<style scoped>\n",
       "    .dataframe tbody tr th:only-of-type {\n",
       "        vertical-align: middle;\n",
       "    }\n",
       "\n",
       "    .dataframe tbody tr th {\n",
       "        vertical-align: top;\n",
       "    }\n",
       "\n",
       "    .dataframe thead th {\n",
       "        text-align: right;\n",
       "    }\n",
       "</style>\n",
       "<table border=\"1\" class=\"dataframe\">\n",
       "  <thead>\n",
       "    <tr style=\"text-align: right;\">\n",
       "      <th></th>\n",
       "      <th>row_id</th>\n",
       "      <th>building_id</th>\n",
       "      <th>meter</th>\n",
       "      <th>timestamp</th>\n",
       "    </tr>\n",
       "  </thead>\n",
       "  <tbody>\n",
       "    <tr>\n",
       "      <th>0</th>\n",
       "      <td>0</td>\n",
       "      <td>0</td>\n",
       "      <td>0</td>\n",
       "      <td>2017-01-01 00:00:00</td>\n",
       "    </tr>\n",
       "    <tr>\n",
       "      <th>1</th>\n",
       "      <td>1</td>\n",
       "      <td>1</td>\n",
       "      <td>0</td>\n",
       "      <td>2017-01-01 00:00:00</td>\n",
       "    </tr>\n",
       "    <tr>\n",
       "      <th>2</th>\n",
       "      <td>2</td>\n",
       "      <td>2</td>\n",
       "      <td>0</td>\n",
       "      <td>2017-01-01 00:00:00</td>\n",
       "    </tr>\n",
       "    <tr>\n",
       "      <th>3</th>\n",
       "      <td>3</td>\n",
       "      <td>3</td>\n",
       "      <td>0</td>\n",
       "      <td>2017-01-01 00:00:00</td>\n",
       "    </tr>\n",
       "    <tr>\n",
       "      <th>4</th>\n",
       "      <td>4</td>\n",
       "      <td>4</td>\n",
       "      <td>0</td>\n",
       "      <td>2017-01-01 00:00:00</td>\n",
       "    </tr>\n",
       "  </tbody>\n",
       "</table>\n",
       "</div>"
      ],
      "text/plain": [
       "   row_id  building_id  meter            timestamp\n",
       "0       0            0      0  2017-01-01 00:00:00\n",
       "1       1            1      0  2017-01-01 00:00:00\n",
       "2       2            2      0  2017-01-01 00:00:00\n",
       "3       3            3      0  2017-01-01 00:00:00\n",
       "4       4            4      0  2017-01-01 00:00:00"
      ]
     },
     "execution_count": 13,
     "metadata": {},
     "output_type": "execute_result"
    }
   ],
   "source": [
    "test.head()"
   ]
  },
  {
   "cell_type": "code",
   "execution_count": 14,
   "metadata": {},
   "outputs": [
    {
     "name": "stdout",
     "output_type": "stream",
     "text": [
      "Memory usage of dataframe is 3579.69 MB\n",
      "Memory usage after optimization is: 2068.59 MB\n",
      "Decreased by 42.2%\n"
     ]
    }
   ],
   "source": [
    "merged_test=test.merge(data_building,on=\"building_id\")\n",
    "merged_test=merged_test.merge(weather_test,on=['site_id','timestamp'],how=\"left\")\n",
    "\n",
    "merged_test[\"primary_use\"]=ordinal_encoder.transform(merged_test[[\"primary_use\"]])\n",
    "merged_test=extract_time(merged_test)\n",
    "\n",
    "merged_test=reduce_mem_usage(merged_test)\n"
   ]
  },
  {
   "cell_type": "markdown",
   "metadata": {},
   "source": [
    "## Handling outliers in train set ( Should've done it in the beggining)"
   ]
  },
  {
   "cell_type": "code",
   "execution_count": 137,
   "metadata": {},
   "outputs": [
    {
     "data": {
      "image/png": "[encoded data removed]",
      "text/plain": [
       "<Figure size 432x288 with 1 Axes>"
      ]
     },
     "metadata": {
      "needs_background": "light"
     },
     "output_type": "display_data"
    }
   ],
   "source": [
    "sns.boxplot(x=merged_data[\"meter_reading\"]).set_title(\"Box plot of meter reading\");"
   ]
  },
  {
   "cell_type": "code",
   "execution_count": 15,
   "metadata": {},
   "outputs": [
    {
     "name": "stdout",
     "output_type": "stream",
     "text": [
      "Memory usage of dataframe is 1080.04 MB\n",
      "Memory usage after optimization is: 1080.04 MB\n",
      "Decreased by 0.0%\n"
     ]
    }
   ],
   "source": [
    "merged_data[\"log_meter_reading\"]=np.log1p(merged_data.meter_reading)\n",
    "merged_data=reduce_mem_usage(merged_data)\n"
   ]
  },
  {
   "cell_type": "code",
   "execution_count": 15,
   "metadata": {},
   "outputs": [
    {
     "data": {
      "image/png": "[encoded data removed]",
      "text/plain": [
       "<Figure size 432x288 with 1 Axes>"
      ]
     },
     "metadata": {
      "needs_background": "light"
     },
     "output_type": "display_data"
    }
   ],
   "source": [
    "sns.boxplot(x=merged_data[\"log_meter_reading\"]).set_title(\"Box plot of log1 meter reading\");"
   ]
  },
  {
   "cell_type": "markdown",
   "metadata": {},
   "source": [
    "## Now let's analyse the distribution of buildings and primary uses in train and test;        we can see that we have the same distribution, and we have to keep this distribution in the validation set"
   ]
  },
  {
   "cell_type": "code",
   "execution_count": 14,
   "metadata": {},
   "outputs": [
    {
     "data": {
      "image/png": "[encoded data removed]",
      "text/plain": [
       "<Figure size 1440x720 with 4 Axes>"
      ]
     },
     "metadata": {
      "needs_background": "light"
     },
     "output_type": "display_data"
    }
   ],
   "source": [
    "fig, axs = plt.subplots(2, 2, constrained_layout=True,figsize=(20, 10))\n",
    "#fig, ax = plt.subplots(figsize=(20, 10))\n",
    "# merged_data.building_id.hist(ax=ax,bins=20) \n",
    "# merged_data.primary_use.hist()\n",
    "\n",
    "axs[0,0].hist(merged_data.building_id,bins=20);\n",
    "axs[0,0].set_title('Distribution of buildings in trainset');\n",
    "\n",
    "axs[0,1].hist(merged_data.primary_use,bins=16);\n",
    "axs[0,1].set_title('Distribution of primary uses in trainset');\n",
    "\n",
    "axs[1,0].hist(merged_test2.building_id,bins=20);\n",
    "axs[1,0].set_title('Distribution of primary uses in testset');\n",
    "\n",
    "axs[1,1].hist(merged_test2.primary_use,bins=16);\n",
    "axs[1,1].set_title('Distribution of primary uses in testset');\n",
    "#axs[1,0].hist(test.primary_use,bins=16)"
   ]
  },
  {
   "cell_type": "code",
   "execution_count": 19,
   "metadata": {},
   "outputs": [
    {
     "name": "stdout",
     "output_type": "stream",
     "text": [
      "Memory usage of dataframe is 886.86 MB\n",
      "Memory usage after optimization is: 886.86 MB\n",
      "Decreased by 0.0%\n"
     ]
    }
   ],
   "source": [
    "X=merged_data.drop(columns=[\"meter_reading\",\"timestamp\",\"log_meter_reading\"])\n",
    "X=reduce_mem_usage(X)\n",
    "y=merged_data[\"log_meter_reading\"]\n",
    "X_train, X_test, y_train, y_test = train_test_split(X, y, test_size=0.3, random_state=42,shuffle=False)"
   ]
  },
  {
   "cell_type": "markdown",
   "metadata": {},
   "source": [
    "## Here we check the distribution of the data in the validation set, it is very similar to that of the train and test sets"
   ]
  },
  {
   "cell_type": "code",
   "execution_count": 112,
   "metadata": {},
   "outputs": [
    {
     "data": {
      "image/png": "[encoded data removed]",
      "text/plain": [
       "<Figure size 1440x360 with 2 Axes>"
      ]
     },
     "metadata": {
      "needs_background": "light"
     },
     "output_type": "display_data"
    }
   ],
   "source": [
    "fig, axs = plt.subplots(1, 2, constrained_layout=True,figsize=(20, 5))\n",
    "axs[0].hist(X_test.building_id,bins=20);\n",
    "axs[0].set_title('Distribution of buildings in validation set');\n",
    "\n",
    "axs[1].hist(X_test.primary_use,bins=16);\n",
    "axs[1].set_title('Distribution of primary uses in validation set');\n",
    "#X_test.building_id.hist(bins=20)"
   ]
  },
  {
   "cell_type": "markdown",
   "metadata": {},
   "source": [
    "## Train the model before adding addtionnal features"
   ]
  },
  {
   "cell_type": "code",
   "execution_count": 20,
   "metadata": {},
   "outputs": [
    {
     "name": "stdout",
     "output_type": "stream",
     "text": [
      "made it here\n",
      "1.6563581265876683\n"
     ]
    }
   ],
   "source": [
    "model = LGBMRegressor(max_depth=3,n_estimators=100)\n",
    "model.fit(X_train, y_train);\n",
    "print(\"made it here\")\n",
    "y_pred=model.predict(X_test)\n",
    "y_pred=np.expm1(y_pred)\n",
    "y_test=np.expm1(y_test)\n",
    "error=np.sqrt(mean_squared_log_error( y_test, y_predy ))\n",
    "print(error)\n"
   ]
  },
  {
   "cell_type": "markdown",
   "metadata": {},
   "source": [
    "## Perfect, now let's do some feature engineering to improve the score"
   ]
  },
  {
   "cell_type": "code",
   "execution_count": 16,
   "metadata": {},
   "outputs": [],
   "source": [
    "def convert_season(month):\n",
    "    if (month <= 2) | (month == 12):\n",
    "        return 0\n",
    "    elif month <= 5:\n",
    "        return 1\n",
    "    elif month <= 8:\n",
    "        return 2\n",
    "    elif month <= 11:\n",
    "        return 3\n",
    "\n",
    "\n",
    "def convert_windDirection(wind_direction):\n",
    "    if wind_direction <= 90:\n",
    "        return 0\n",
    "    elif wind_direction <= 180:\n",
    "        return 1\n",
    "    elif wind_direction <= 270:\n",
    "        return 2\n",
    "    elif wind_direction <= 360:\n",
    "        return 3\n",
    "\n",
    "    \n"
   ]
  },
  {
   "cell_type": "code",
   "execution_count": 17,
   "metadata": {},
   "outputs": [
    {
     "data": {
      "text/html": [
       "<div>\n",
       "<style scoped>\n",
       "    .dataframe tbody tr th:only-of-type {\n",
       "        vertical-align: middle;\n",
       "    }\n",
       "\n",
       "    .dataframe tbody tr th {\n",
       "        vertical-align: top;\n",
       "    }\n",
       "\n",
       "    .dataframe thead th {\n",
       "        text-align: right;\n",
       "    }\n",
       "</style>\n",
       "<table border=\"1\" class=\"dataframe\">\n",
       "  <thead>\n",
       "    <tr style=\"text-align: right;\">\n",
       "      <th></th>\n",
       "      <th>building_id</th>\n",
       "      <th>meter</th>\n",
       "      <th>timestamp</th>\n",
       "      <th>meter_reading</th>\n",
       "      <th>site_id</th>\n",
       "      <th>primary_use</th>\n",
       "      <th>square_feet</th>\n",
       "      <th>air_temperature</th>\n",
       "      <th>dew_temperature</th>\n",
       "      <th>sea_level_pressure</th>\n",
       "      <th>...</th>\n",
       "      <th>wind_speed</th>\n",
       "      <th>day</th>\n",
       "      <th>week</th>\n",
       "      <th>month</th>\n",
       "      <th>hour</th>\n",
       "      <th>year</th>\n",
       "      <th>log_meter_reading</th>\n",
       "      <th>weekend</th>\n",
       "      <th>season</th>\n",
       "      <th>wind_direction_Converted</th>\n",
       "    </tr>\n",
       "  </thead>\n",
       "  <tbody>\n",
       "    <tr>\n",
       "      <th>0</th>\n",
       "      <td>0</td>\n",
       "      <td>0</td>\n",
       "      <td>2016-01-01 00:00:00</td>\n",
       "      <td>0.000000</td>\n",
       "      <td>0</td>\n",
       "      <td>0.0</td>\n",
       "      <td>7432</td>\n",
       "      <td>25.0</td>\n",
       "      <td>20.0</td>\n",
       "      <td>1019.700012</td>\n",
       "      <td>...</td>\n",
       "      <td>0.0</td>\n",
       "      <td>1</td>\n",
       "      <td>53</td>\n",
       "      <td>1</td>\n",
       "      <td>0</td>\n",
       "      <td>2016</td>\n",
       "      <td>0.000000</td>\n",
       "      <td>0</td>\n",
       "      <td>0</td>\n",
       "      <td>0.0</td>\n",
       "    </tr>\n",
       "    <tr>\n",
       "      <th>14192155</th>\n",
       "      <td>1137</td>\n",
       "      <td>1</td>\n",
       "      <td>2016-01-01 00:00:00</td>\n",
       "      <td>0.000000</td>\n",
       "      <td>13</td>\n",
       "      <td>6.0</td>\n",
       "      <td>27452</td>\n",
       "      <td>-8.3</td>\n",
       "      <td>-12.2</td>\n",
       "      <td>1023.299988</td>\n",
       "      <td>...</td>\n",
       "      <td>4.1</td>\n",
       "      <td>1</td>\n",
       "      <td>53</td>\n",
       "      <td>1</td>\n",
       "      <td>0</td>\n",
       "      <td>2016</td>\n",
       "      <td>0.000000</td>\n",
       "      <td>0</td>\n",
       "      <td>0</td>\n",
       "      <td>2.0</td>\n",
       "    </tr>\n",
       "    <tr>\n",
       "      <th>14192154</th>\n",
       "      <td>1137</td>\n",
       "      <td>0</td>\n",
       "      <td>2016-01-01 00:00:00</td>\n",
       "      <td>9.000000</td>\n",
       "      <td>13</td>\n",
       "      <td>6.0</td>\n",
       "      <td>27452</td>\n",
       "      <td>-8.3</td>\n",
       "      <td>-12.2</td>\n",
       "      <td>1023.299988</td>\n",
       "      <td>...</td>\n",
       "      <td>4.1</td>\n",
       "      <td>1</td>\n",
       "      <td>53</td>\n",
       "      <td>1</td>\n",
       "      <td>0</td>\n",
       "      <td>2016</td>\n",
       "      <td>2.302585</td>\n",
       "      <td>0</td>\n",
       "      <td>0</td>\n",
       "      <td>2.0</td>\n",
       "    </tr>\n",
       "    <tr>\n",
       "      <th>14174587</th>\n",
       "      <td>1136</td>\n",
       "      <td>1</td>\n",
       "      <td>2016-01-01 00:00:00</td>\n",
       "      <td>3.498600</td>\n",
       "      <td>13</td>\n",
       "      <td>6.0</td>\n",
       "      <td>79782</td>\n",
       "      <td>-8.3</td>\n",
       "      <td>-12.2</td>\n",
       "      <td>1023.299988</td>\n",
       "      <td>...</td>\n",
       "      <td>4.1</td>\n",
       "      <td>1</td>\n",
       "      <td>53</td>\n",
       "      <td>1</td>\n",
       "      <td>0</td>\n",
       "      <td>2016</td>\n",
       "      <td>1.503766</td>\n",
       "      <td>0</td>\n",
       "      <td>0</td>\n",
       "      <td>2.0</td>\n",
       "    </tr>\n",
       "    <tr>\n",
       "      <th>14174586</th>\n",
       "      <td>1136</td>\n",
       "      <td>0</td>\n",
       "      <td>2016-01-01 00:00:00</td>\n",
       "      <td>39.519001</td>\n",
       "      <td>13</td>\n",
       "      <td>6.0</td>\n",
       "      <td>79782</td>\n",
       "      <td>-8.3</td>\n",
       "      <td>-12.2</td>\n",
       "      <td>1023.299988</td>\n",
       "      <td>...</td>\n",
       "      <td>4.1</td>\n",
       "      <td>1</td>\n",
       "      <td>53</td>\n",
       "      <td>1</td>\n",
       "      <td>0</td>\n",
       "      <td>2016</td>\n",
       "      <td>3.701771</td>\n",
       "      <td>0</td>\n",
       "      <td>0</td>\n",
       "      <td>2.0</td>\n",
       "    </tr>\n",
       "  </tbody>\n",
       "</table>\n",
       "<p>5 rows × 21 columns</p>\n",
       "</div>"
      ],
      "text/plain": [
       "          building_id  meter            timestamp  meter_reading  site_id  \\\n",
       "0                   0      0  2016-01-01 00:00:00       0.000000        0   \n",
       "14192155         1137      1  2016-01-01 00:00:00       0.000000       13   \n",
       "14192154         1137      0  2016-01-01 00:00:00       9.000000       13   \n",
       "14174587         1136      1  2016-01-01 00:00:00       3.498600       13   \n",
       "14174586         1136      0  2016-01-01 00:00:00      39.519001       13   \n",
       "\n",
       "          primary_use  square_feet  air_temperature  dew_temperature  \\\n",
       "0                 0.0         7432             25.0             20.0   \n",
       "14192155          6.0        27452             -8.3            -12.2   \n",
       "14192154          6.0        27452             -8.3            -12.2   \n",
       "14174587          6.0        79782             -8.3            -12.2   \n",
       "14174586          6.0        79782             -8.3            -12.2   \n",
       "\n",
       "          sea_level_pressure  ...  wind_speed  day  week  month  hour  year  \\\n",
       "0                1019.700012  ...         0.0    1    53      1     0  2016   \n",
       "14192155         1023.299988  ...         4.1    1    53      1     0  2016   \n",
       "14192154         1023.299988  ...         4.1    1    53      1     0  2016   \n",
       "14174587         1023.299988  ...         4.1    1    53      1     0  2016   \n",
       "14174586         1023.299988  ...         4.1    1    53      1     0  2016   \n",
       "\n",
       "          log_meter_reading  weekend  season  wind_direction_Converted  \n",
       "0                  0.000000        0       0                       0.0  \n",
       "14192155           0.000000        0       0                       2.0  \n",
       "14192154           2.302585        0       0                       2.0  \n",
       "14174587           1.503766        0       0                       2.0  \n",
       "14174586           3.701771        0       0                       2.0  \n",
       "\n",
       "[5 rows x 21 columns]"
      ]
     },
     "execution_count": 17,
     "metadata": {},
     "output_type": "execute_result"
    }
   ],
   "source": [
    "merged_data['weekend'] = merged_data.day.apply(lambda x: 1 if x>=5 else 0)\n",
    "merged_data[\"season\"]=merged_data[\"month\"].apply(convert_season)\n",
    "merged_data[\"wind_direction_Converted\"]=merged_data[\"wind_direction\"].apply(convert_windDirection)\n",
    "\n",
    "\n",
    "#merged_data['temperature_categories']=pd.cut(merged_data.air_temperature,bins=20,labels=list(range(0,20)))\n",
    "\n",
    "merged_test['weekend'] = merged_test.day.apply(lambda x: 1 if x>=5 else 0)\n",
    "merged_test[\"season\"]=merged_test[\"month\"].apply(convert_season)\n",
    "merged_test[\"wind_direction_Converted\"]=merged_test[\"wind_direction\"].apply(convert_windDirection)\n",
    "\n",
    "merged_data.head()"
   ]
  },
  {
   "cell_type": "markdown",
   "metadata": {},
   "source": [
    "## These lines will allow us to avoid rerunning the code from the beggining if the notebook shutsdown"
   ]
  },
  {
   "cell_type": "code",
   "execution_count": 18,
   "metadata": {},
   "outputs": [],
   "source": [
    "merged_data.to_pickle(\"./merged_data.pkl\")\n",
    "merged_test.to_pickle(\"./merged_test.pkl\")"
   ]
  },
  {
   "cell_type": "code",
   "execution_count": 2,
   "metadata": {},
   "outputs": [],
   "source": [
    "merged_test = pd.read_pickle(\"./merged_test.pkl\")\n",
    "merged_data = pd.read_pickle(\"./merged_data.pkl\")\n"
   ]
  },
  {
   "cell_type": "markdown",
   "metadata": {},
   "source": [
    "## We are going to add features that depend on the target, so let's divide our data into training and validation "
   ]
  },
  {
   "cell_type": "code",
   "execution_count": 19,
   "metadata": {},
   "outputs": [],
   "source": [
    "percent=int(0.2*len(merged_data))\n",
    "trainset=merged_data[:-percent]\n",
    "validationset=merged_data[-percent:]"
   ]
  },
  {
   "cell_type": "code",
   "execution_count": 20,
   "metadata": {},
   "outputs": [
    {
     "data": {
      "text/html": [
       "<div>\n",
       "<style scoped>\n",
       "    .dataframe tbody tr th:only-of-type {\n",
       "        vertical-align: middle;\n",
       "    }\n",
       "\n",
       "    .dataframe tbody tr th {\n",
       "        vertical-align: top;\n",
       "    }\n",
       "\n",
       "    .dataframe thead th {\n",
       "        text-align: right;\n",
       "    }\n",
       "</style>\n",
       "<table border=\"1\" class=\"dataframe\">\n",
       "  <thead>\n",
       "    <tr style=\"text-align: right;\">\n",
       "      <th></th>\n",
       "      <th>building_id</th>\n",
       "      <th>meter</th>\n",
       "      <th>meter_reading_mean</th>\n",
       "      <th>meter_reading_median</th>\n",
       "    </tr>\n",
       "  </thead>\n",
       "  <tbody>\n",
       "    <tr>\n",
       "      <th>0</th>\n",
       "      <td>0</td>\n",
       "      <td>0</td>\n",
       "      <td>2.896107</td>\n",
       "      <td>5.218240</td>\n",
       "    </tr>\n",
       "    <tr>\n",
       "      <th>1</th>\n",
       "      <td>1</td>\n",
       "      <td>0</td>\n",
       "      <td>2.613936</td>\n",
       "      <td>4.611687</td>\n",
       "    </tr>\n",
       "    <tr>\n",
       "      <th>2</th>\n",
       "      <td>2</td>\n",
       "      <td>0</td>\n",
       "      <td>1.685359</td>\n",
       "      <td>1.966133</td>\n",
       "    </tr>\n",
       "    <tr>\n",
       "      <th>3</th>\n",
       "      <td>3</td>\n",
       "      <td>0</td>\n",
       "      <td>3.101951</td>\n",
       "      <td>4.986240</td>\n",
       "    </tr>\n",
       "    <tr>\n",
       "      <th>4</th>\n",
       "      <td>4</td>\n",
       "      <td>0</td>\n",
       "      <td>3.874557</td>\n",
       "      <td>7.288507</td>\n",
       "    </tr>\n",
       "  </tbody>\n",
       "</table>\n",
       "</div>"
      ],
      "text/plain": [
       "   building_id  meter  meter_reading_mean  meter_reading_median\n",
       "0            0      0            2.896107              5.218240\n",
       "1            1      0            2.613936              4.611687\n",
       "2            2      0            1.685359              1.966133\n",
       "3            3      0            3.101951              4.986240\n",
       "4            4      0            3.874557              7.288507"
      ]
     },
     "execution_count": 20,
     "metadata": {},
     "output_type": "execute_result"
    }
   ],
   "source": [
    "grouped_consumption=trainset.groupby(['building_id','meter'])['log_meter_reading'].agg([\n",
    "    (\"meter_reading_mean\",'mean'),(\"meter_reading_median\",'median')]).reset_index()\n",
    "\n",
    "grouped_consumption_per_hour_per_season=trainset.groupby(['building_id','meter','hour','season'])['log_meter_reading'].agg([\n",
    "    (\"meter_reading_mean_hourSeason\",'mean'),(\"meter_reading_median_hourSeason\",'median')]).reset_index()\n",
    "grouped_consumption.head()"
   ]
  },
  {
   "cell_type": "code",
   "execution_count": 12,
   "metadata": {},
   "outputs": [],
   "source": [
    "trainset=trainset.merge(grouped_consumption,on=['building_id','meter'])\n",
    "trainset=trainset.merge(grouped_consumption_per_hour_per_season,on=['building_id','meter','hour','season'])\n",
    "\n",
    "validationset=validationset.merge(grouped_consumption,on=['building_id','meter'])\n",
    "validationset=validationset.merge(grouped_consumption_per_hour_per_season,on=['building_id','meter','hour','season'])\n",
    "\n",
    "merged_test=merged_test.merge(grouped_consumption,on=['building_id','meter'])\n",
    "merged_test=merged_test.merge(grouped_consumption_per_hour_per_season,on=['building_id','meter','hour','season'])\n"
   ]
  },
  {
   "cell_type": "code",
   "execution_count": 22,
   "metadata": {},
   "outputs": [],
   "source": [
    "X_train=trainset.drop(columns=[\"meter_reading\",\"timestamp\",\"log_meter_reading\"])\n",
    "X_test=validationset.drop(columns=[\"meter_reading\",\"timestamp\",\"log_meter_reading\"])\n",
    "\n",
    "#X_train=reduce_mem_usage(X_train)\n",
    "y_train=trainset[\"log_meter_reading\"]\n",
    "y_test=validationset[\"log_meter_reading\"]\n",
    "#X_train, X_test, y_train, y_test = train_test_split(X, y, test_size=0.3, random_state=42,shuffle=False)"
   ]
  },
  {
   "cell_type": "code",
   "execution_count": 23,
   "metadata": {},
   "outputs": [
    {
     "name": "stdout",
     "output_type": "stream",
     "text": [
      "made it here\n",
      "1.4345873762044525\n"
     ]
    }
   ],
   "source": [
    "model = LGBMRegressor(max_depth=3,n_estimators=100)\n",
    "model.fit(X_train, y_train);\n",
    "print(\"made it here\")\n",
    "y_pred=model.predict(X_test)\n",
    "y_pred=np.clip(np.expm1(y_pred),0,max(np.expm1(y_pred)))\n",
    "y_test=np.expm1(y_test)\n",
    "error=np.sqrt(mean_squared_log_error( y_test, y_pred ))\n",
    "print(error)"
   ]
  },
  {
   "cell_type": "code",
   "execution_count": 24,
   "metadata": {},
   "outputs": [
    {
     "data": {
      "image/png": "[encoded data removed]",
      "text/plain": [
       "<Figure size 1440x720 with 1 Axes>"
      ]
     },
     "metadata": {
      "needs_background": "light"
     },
     "output_type": "display_data"
    }
   ],
   "source": [
    "importances=model.feature_importances_\n",
    "features = X_train.columns\n",
    "indices = np.argsort(importances)\n",
    "plt.figure(figsize=(20,10))\n",
    "plt.title('Feature Importances')\n",
    "\n",
    "\n",
    "plt.barh(range(len(indices)), importances[indices], color='b', align='center')\n",
    "plt.yticks(range(len(indices)), [features[i] for i in indices])\n",
    "plt.xlabel('Relative Importance')\n",
    "plt.show()\n"
   ]
  },
  {
   "cell_type": "markdown",
   "metadata": {},
   "source": [
    "## Now for the submission let's fit the model on the whole data set"
   ]
  },
  {
   "cell_type": "code",
   "execution_count": 5,
   "metadata": {},
   "outputs": [],
   "source": [
    "grouped_consumption_full=merged_data.groupby(['building_id','meter'])['log_meter_reading'].agg([\n",
    "    (\"meter_reading_mean\",'mean'),(\"meter_reading_median\",'median')]).reset_index()\n",
    "\n",
    "grouped_consumption_per_hour_per_season_full=merged_data.groupby(['building_id','meter','hour','season'])['log_meter_reading'].agg([\n",
    "    (\"meter_reading_mean_hourSeason\",'mean'),(\"meter_reading_median_hourSeason\",'median')]).reset_index()\n",
    "\n",
    "\n",
    "merged_data_full=merged_data.merge(grouped_consumption_full,on=['building_id','meter'])\n",
    "merged_data_full=merged_data_full.merge(grouped_consumption_per_hour_per_season_full,on=['building_id','meter','hour','season'])\n",
    "\n",
    "merged_test=merged_test.merge(grouped_consumption_full,on=['building_id','meter'],how='left')\n",
    "merged_test=merged_test.merge(grouped_consumption_per_hour_per_season_full,on=['building_id','meter','hour','season'],how='left')\n",
    "\n"
   ]
  },
  {
   "cell_type": "code",
   "execution_count": 6,
   "metadata": {},
   "outputs": [],
   "source": [
    "X=merged_data_full.drop(columns=[\"meter_reading\",\"timestamp\",\"log_meter_reading\"])\n",
    "y=merged_data_full[\"log_meter_reading\"]\n",
    "model = LGBMRegressor(max_depth=3,n_estimators=100)\n",
    "model.fit(X, y);"
   ]
  },
  {
   "cell_type": "code",
   "execution_count": 7,
   "metadata": {},
   "outputs": [],
   "source": [
    "y_predict_submit=model.predict(merged_test[X.columns])\n",
    "y_predict_submit=np.clip(np.expm1(y_predict_submit),0,max(np.expm1(y_predict_submit)))"
   ]
  },
  {
   "cell_type": "markdown",
   "metadata": {},
   "source": [
    "## Here we submit the predicted values so that it can be avaluated on the leaderboard of kaggle"
   ]
  },
  {
   "cell_type": "code",
   "execution_count": 8,
   "metadata": {},
   "outputs": [
    {
     "name": "stderr",
     "output_type": "stream",
     "text": [
      "C:\\Users\\Ghassen Cherni\\Anaconda3\\lib\\site-packages\\ipykernel_launcher.py:2: SettingWithCopyWarning: \n",
      "A value is trying to be set on a copy of a slice from a DataFrame.\n",
      "Try using .loc[row_indexer,col_indexer] = value instead\n",
      "\n",
      "See the caveats in the documentation: http://pandas.pydata.org/pandas-docs/stable/indexing.html#indexing-view-versus-copy\n",
      "  \n"
     ]
    },
    {
     "data": {
      "text/html": [
       "<div>\n",
       "<style scoped>\n",
       "    .dataframe tbody tr th:only-of-type {\n",
       "        vertical-align: middle;\n",
       "    }\n",
       "\n",
       "    .dataframe tbody tr th {\n",
       "        vertical-align: top;\n",
       "    }\n",
       "\n",
       "    .dataframe thead th {\n",
       "        text-align: right;\n",
       "    }\n",
       "</style>\n",
       "<table border=\"1\" class=\"dataframe\">\n",
       "  <thead>\n",
       "    <tr style=\"text-align: right;\">\n",
       "      <th></th>\n",
       "      <th>row_id</th>\n",
       "      <th>meter_reading</th>\n",
       "    </tr>\n",
       "  </thead>\n",
       "  <tbody>\n",
       "    <tr>\n",
       "      <th>0</th>\n",
       "      <td>0</td>\n",
       "      <td>3.078746</td>\n",
       "    </tr>\n",
       "    <tr>\n",
       "      <th>1</th>\n",
       "      <td>41613054</td>\n",
       "      <td>140.513462</td>\n",
       "    </tr>\n",
       "    <tr>\n",
       "      <th>2</th>\n",
       "      <td>41613055</td>\n",
       "      <td>170.099657</td>\n",
       "    </tr>\n",
       "    <tr>\n",
       "      <th>3</th>\n",
       "      <td>41613056</td>\n",
       "      <td>756.449973</td>\n",
       "    </tr>\n",
       "    <tr>\n",
       "      <th>4</th>\n",
       "      <td>41613057</td>\n",
       "      <td>32.450019</td>\n",
       "    </tr>\n",
       "  </tbody>\n",
       "</table>\n",
       "</div>"
      ],
      "text/plain": [
       "     row_id  meter_reading\n",
       "0         0       3.078746\n",
       "1  41613054     140.513462\n",
       "2  41613055     170.099657\n",
       "3  41613056     756.449973\n",
       "4  41613057      32.450019"
      ]
     },
     "execution_count": 8,
     "metadata": {},
     "output_type": "execute_result"
    }
   ],
   "source": [
    "submission_df=merged_test[['row_id']]\n",
    "submission_df[\"meter_reading\"]=y_predict_submit\n",
    "submission=submission_df[[\"row_id\",\"meter_reading\"]]\n",
    "submission.head()"
   ]
  },
  {
   "cell_type": "code",
   "execution_count": 9,
   "metadata": {},
   "outputs": [],
   "source": [
    "submission.to_csv('submission.csv', index=False)"
   ]
  }
 ],
 "metadata": {
  "kernelspec": {
   "display_name": "Python 3",
   "language": "python",
   "name": "python3"
  },
  "language_info": {
   "codemirror_mode": {
    "name": "ipython",
    "version": 3
   },
   "file_extension": ".py",
   "mimetype": "text/x-python",
   "name": "python",
   "nbconvert_exporter": "python",
   "pygments_lexer": "ipython3",
   "version": "3.7.3"
  }
 },
 "nbformat": 4,
 "nbformat_minor": 2
}
